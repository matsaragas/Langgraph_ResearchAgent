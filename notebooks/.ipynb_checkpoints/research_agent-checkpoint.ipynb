{
 "cells": [
  {
   "cell_type": "code",
   "execution_count": null,
   "id": "9087742f-ed8c-401e-98c4-39cceccfca1e",
   "metadata": {},
   "outputs": [],
   "source": [
    "from datasets import load_dataset"
   ]
  },
  {
   "cell_type": "code",
   "execution_count": null,
   "id": "2cbce3be-165b-4c90-8014-b3e2cb6a9728",
   "metadata": {},
   "outputs": [],
   "source": [
    "### Load Datasets\n",
    "\n",
    "Load a collection AI research arxiv papers from hugging face. The papers have been chunked and information (chunk id with arxiv id, paper title, chunk text, post chunk id and arxiv id from reference papaer) from each chunk is provided in a dictionary."
   ]
  },
  {
   "cell_type": "code",
   "execution_count": null,
   "id": "3d35e5bc-c9a3-42c2-bfe3-7ae375440026",
   "metadata": {},
   "outputs": [],
   "source": [
    "dataset = load_dataset(\"jamescalam/ai-arxiv2-semantic-chunks\", split=\"train\")"
   ]
  },
  {
   "cell_type": "code",
   "execution_count": null,
   "id": "a4c7a8cb-00f7-401f-9151-e3b1d966573b",
   "metadata": {},
   "outputs": [],
   "source": [
    "### Semantic Router\n",
    "\n",
    "Semantic Router is a superfast decision-making layer for your LLMs and agents. \n",
    "\n",
    "https://github.com/aurelio-labs/semantic-router\n"
   ]
  },
  {
   "cell_type": "code",
   "execution_count": null,
   "id": "accd3578-4c70-450f-9bce-323a748b00ed",
   "metadata": {},
   "outputs": [],
   "source": [
    "import os\n",
    "from getpass import getpass\n",
    "from semantic_router.encoders import OpenAIEncoder\n",
    "pinecone_api_key = \"pcsk_H2epd_TG1DQBuiFhb4wDQR9RmLv4QKLXmiHADH86QHfx5uJGCF52kvPMs1YRL6AEb8fEb\""
   ]
  },
  {
   "cell_type": "code",
   "execution_count": null,
   "id": "04d8843c-4507-43f9-be78-bc82c7fc35dd",
   "metadata": {},
   "outputs": [],
   "source": [
    "os.environ[\"OPENAI_API_KEY\"] = os.getenv(\"OPENAI_API_KEY\") or getpass(\"OpenAI API key: \")"
   ]
  },
  {
   "cell_type": "code",
   "execution_count": null,
   "id": "904e1c9a-c253-41fb-b02e-609e85466d0c",
   "metadata": {},
   "outputs": [],
   "source": [
    "encoder = OpenAIEncoder(name=\"text-embedding-3-small\")"
   ]
  },
  {
   "cell_type": "code",
   "execution_count": null,
   "id": "56b6e196-f378-43f9-b13d-8cf4b57550a3",
   "metadata": {},
   "outputs": [],
   "source": [
    "from pinecone import Pinecone\n",
    "from pinecone import ServerlessSpec"
   ]
  },
  {
   "cell_type": "code",
   "execution_count": null,
   "id": "ada05587-2783-4a74-a01f-0b737657533a",
   "metadata": {},
   "outputs": [],
   "source": [
    "pc = Pinecone(api_key=pinecone_api_key)"
   ]
  }
 ],
 "metadata": {
  "kernelspec": {
   "display_name": "research venv",
   "language": "python",
   "name": "venv"
  },
  "language_info": {
   "codemirror_mode": {
    "name": "ipython",
    "version": 3
   },
   "file_extension": ".py",
   "mimetype": "text/x-python",
   "name": "python",
   "nbconvert_exporter": "python",
   "pygments_lexer": "ipython3",
   "version": "3.11.8"
  }
 },
 "nbformat": 4,
 "nbformat_minor": 5
}
